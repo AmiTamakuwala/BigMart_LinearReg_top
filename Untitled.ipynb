{
 "cells": [
  {
   "cell_type": "code",
   "execution_count": null,
   "id": "c2bbef26",
   "metadata": {},
   "outputs": [],
   "source": [
    "name_dict = {\"reg\" : \"Regular\",\n",
    "                \"LF\" : \"Low Fat\",\n",
    "                \"low fat\" : \"Low Fat\"}\n",
    "def merge_str(df, col, value):\n",
    "     return(df[col].replace(value), inplace=True)\n",
    "\n",
    "merge_str(df, \"Item_Fat_Content\", name_dict)    \n",
    "df[\"Item_Fat_Content\"].value_counts()"
   ]
  },
  {
   "cell_type": "code",
   "execution_count": null,
   "id": "c3c1159c",
   "metadata": {},
   "outputs": [],
   "source": [
    "df[\"Item_Fat_Content\"].replace({'reg' : \"Regular\",\n",
    "                               \"LF\" : \"Low Fat\",\n",
    "                               \"low fat\" : \"Low Fat\"}, inplace=True)\n",
    "\n",
    "df[\"Item_Fat_Content\"].value_counts()"
   ]
  },
  {
   "cell_type": "code",
   "execution_count": null,
   "id": "b07836f7",
   "metadata": {},
   "outputs": [],
   "source": [
    "def merge_names(df, col, value):\n",
    "    '''\n",
    "    df : dataframe\n",
    "    col: values from specific column \"Item_Fat_Conten\"\n",
    "    values: different category from the column.\n",
    "    return\n",
    "        merge dict\n",
    "    '''\n",
    "    name_dict = {\"reg\" : \"Regular\",\n",
    "                \"LF\" : \"Low Fat\",\n",
    "                \"low fat\" : \"Low Fat\"}\n",
    "    bool_val = df[col] == value\n",
    "    df[col][bool_val] = name_dict[value]\n",
    "    \n",
    "merge_names(df, \"Item_Fat_Content\", 'reg')\n",
    "merge_names(df, \"Item_Fat_Content\", 'LF')\n",
    "merge_names(df, \"Item_Fat_Content\", 'low fat')"
   ]
  },
  {
   "cell_type": "code",
   "execution_count": null,
   "id": "1d388a62",
   "metadata": {},
   "outputs": [],
   "source": [
    "def replace_str(df, col, value):\n",
    "    bool = (df[\"Item_Fat_Content\"].replace({\"reg\" : \"Regular\",\n",
    "                                    \"LF\" : \"Low Fat\",\n",
    "                                    \"low fat\" : \"Low Fat\"})).value_counts()\n",
    "   \n",
    " "
   ]
  },
  {
   "cell_type": "code",
   "execution_count": null,
   "id": "7bad4f56",
   "metadata": {},
   "outputs": [],
   "source": [
    "def replace_str(df, col, value):\n",
    "    bool10=df.replace(to_replace={\"Item_Fat_Content\" : {\"reg\" : \"Regular\",\n",
    "                        \"LF\" : \"Low Fat\",\n",
    "                        \"low fat\" : \"Low Fat\"}}, value=None)\n",
    "    return replace_str\n",
    "print(df, \"Item_Fat_Content\", bool10)\n",
    "\n"
   ]
  },
  {
   "cell_type": "code",
   "execution_count": null,
   "id": "29656e5e",
   "metadata": {},
   "outputs": [],
   "source": [
    "def find_uniques(df):\n",
    "    return df.apply(lambda x: len(x.unique()))\n",
    "\n",
    "find_uniques(df)"
   ]
  },
  {
   "cell_type": "code",
   "execution_count": null,
   "id": "acf73925",
   "metadata": {},
   "outputs": [],
   "source": [
    "def combine_cat(df, col, value):\n",
    "    merge_bool=df[\"Item_Fat_Content\"].replace({'reg' : \"Regular\",\n",
    "                               \"LF\" : \"Low Fat\",\n",
    "                               \"low fat\" : \"Low Fat\"}, inplace=True)\n",
    "    bool_val = df[col] == value\n",
    "    df[col][bool_val] = merge_bool\n",
    "    \n",
    "df[\"Item_Fat_Content\"].value_counts()"
   ]
  },
  {
   "cell_type": "code",
   "execution_count": null,
   "id": "ff66317f",
   "metadata": {},
   "outputs": [],
   "source": [
    "def mode_Outlet_Size(df, col2, aggrigation):\n",
    "    df.groupby([\"Outlet_TYpe\"])(\"Outlet_size\").agg(pd.Series.mode)\n",
    "    bool_var = df[\"Outlet_Size\"].isnull()\n",
    "    return df[\"Outlet_Size\"][bool_var] = df[\"Outlet_Type\"][bool_var].apply(lambda x: mode_Outlet_Size.loc[x]).values\n",
    "df[\"Outlet_Size\"].isnull().sum()\n",
    "print(df, \"OutletTYpe\", aggrigation)\n",
    "    \n"
   ]
  },
  {
   "cell_type": "code",
   "execution_count": null,
   "id": "2852ee92",
   "metadata": {},
   "outputs": [],
   "source": [
    "def mode_Outlet_Size(df, col2, agg):\n",
    "    df.groupby(\"Outlet_type\", \"Outlet_Size\", agg=(lambda x: mode(x).mode[0]))\n",
    "print('Mode for each Outlet_Type: ')\n",
    "print('mode_Outlet_Size')    "
   ]
  },
  {
   "cell_type": "code",
   "execution_count": null,
   "id": "b4c290fa",
   "metadata": {},
   "outputs": [],
   "source": []
  },
  {
   "cell_type": "code",
   "execution_count": null,
   "id": "213d28d7",
   "metadata": {},
   "outputs": [],
   "source": []
  }
 ],
 "metadata": {
  "kernelspec": {
   "display_name": "Python 3 (ipykernel)",
   "language": "python",
   "name": "python3"
  },
  "language_info": {
   "codemirror_mode": {
    "name": "ipython",
    "version": 3
   },
   "file_extension": ".py",
   "mimetype": "text/x-python",
   "name": "python",
   "nbconvert_exporter": "python",
   "pygments_lexer": "ipython3",
   "version": "3.9.7"
  }
 },
 "nbformat": 4,
 "nbformat_minor": 5
}
